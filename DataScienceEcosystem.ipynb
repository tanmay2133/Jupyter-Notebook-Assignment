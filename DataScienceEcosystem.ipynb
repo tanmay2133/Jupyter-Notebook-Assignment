{
 "cells": [
  {
   "cell_type": "markdown",
   "id": "c505a5dc-bb85-47b1-9a40-bfdae832dc10",
   "metadata": {},
   "source": [
    "# Data Science Tools and Ecosystem"
   ]
  },
  {
   "cell_type": "markdown",
   "id": "09142005-677c-4829-9991-6841b5ead445",
   "metadata": {},
   "source": [
    "In this notebook, Data Science Tools and Ecosystem are summarized."
   ]
  },
  {
   "cell_type": "markdown",
   "id": "d45f0a6b-d3de-4cee-b897-dcb09248c3fd",
   "metadata": {},
   "source": [
    "**Objectives:**\n",
    "- List popular languages for Data Science\n",
    "- List popular libraries for Data Science\n",
    "- Name open source development environments for Data Science"
   ]
  },
  {
   "cell_type": "markdown",
   "id": "47140e95-2d5d-4f59-99fa-d13937c35f3c",
   "metadata": {},
   "source": [
    "Some of the popular languages that Data Scientists use are:\n",
    "1. Python\n",
    "2. R\n",
    "3. Julia"
   ]
  },
  {
   "cell_type": "markdown",
   "id": "35acb899-9ff4-465d-b1a4-357715771b02",
   "metadata": {},
   "source": [
    "Some of the commonly used libraries used by Data Scientists include:\n",
    "1. NumPy\n",
    "2. Pandas\n",
    "3. SciPy"
   ]
  },
  {
   "cell_type": "markdown",
   "id": "381e1c82-7d70-4743-b08d-a7aa2aef77ae",
   "metadata": {},
   "source": [
    "| Data Science Tools|\n",
    "---------------------\n",
    "| R Studio|\n",
    "| Apache Spark|\n",
    "| TensorFlow|"
   ]
  },
  {
   "cell_type": "markdown",
   "id": "2d06077d-6475-49bb-8f44-b481eacc86bd",
   "metadata": {},
   "source": [
    "### Below are a few examples of evaluating arithmetic expressions in Python."
   ]
  },
  {
   "cell_type": "code",
   "execution_count": 2,
   "id": "e793f12b-0f1b-495c-a970-0b5f1441abe6",
   "metadata": {
    "tags": []
   },
   "outputs": [
    {
     "data": {
      "text/plain": [
       "17"
      ]
     },
     "execution_count": 2,
     "metadata": {},
     "output_type": "execute_result"
    }
   ],
   "source": [
    "# This a simple arithmetic expression to mutiply then add integers\n",
    "(3*4)+5"
   ]
  },
  {
   "cell_type": "code",
   "execution_count": 3,
   "id": "5f4a0045-3123-4ba5-8692-1d993147a2c5",
   "metadata": {
    "tags": []
   },
   "outputs": [
    {
     "data": {
      "text/plain": [
       "3.3333333333333335"
      ]
     },
     "execution_count": 3,
     "metadata": {},
     "output_type": "execute_result"
    }
   ],
   "source": [
    "# This will convert 200 minutes to hours by diving by 60\n",
    "200/60"
   ]
  },
  {
   "cell_type": "markdown",
   "id": "f7df63ad-71e3-4615-92ea-df33cd1801aa",
   "metadata": {},
   "source": [
    "## Author\n",
    "Tanmay Naik"
   ]
  },
  {
   "cell_type": "code",
   "execution_count": null,
   "id": "8f6f3bc8-3aa7-4983-916d-81e803546b5c",
   "metadata": {},
   "outputs": [],
   "source": []
  }
 ],
 "metadata": {
  "kernelspec": {
   "display_name": "Python",
   "language": "python",
   "name": "conda-env-python-py"
  },
  "language_info": {
   "codemirror_mode": {
    "name": "ipython",
    "version": 3
   },
   "file_extension": ".py",
   "mimetype": "text/x-python",
   "name": "python",
   "nbconvert_exporter": "python",
   "pygments_lexer": "ipython3",
   "version": "3.7.12"
  }
 },
 "nbformat": 4,
 "nbformat_minor": 5
}
